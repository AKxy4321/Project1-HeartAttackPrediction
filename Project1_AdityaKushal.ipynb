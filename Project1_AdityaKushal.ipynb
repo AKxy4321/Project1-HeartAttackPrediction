{
  "cells": [
    {
      "cell_type": "code",
      "execution_count": 7,
      "metadata": {
        "id": "tvpeTC-cZGSs",
        "colab": {
          "base_uri": "https://localhost:8080/"
        },
        "outputId": "ff744169-576d-4c70-f8e0-62a4d2b8fab2"
      },
      "outputs": [
        {
          "output_type": "stream",
          "name": "stdout",
          "text": [
            "Mounted at /content/gdrive\n"
          ]
        }
      ],
      "source": [
        "from google.colab import drive\n",
        "drive.mount('/content/gdrive',force_remount=True)"
      ]
    },
    {
      "cell_type": "markdown",
      "source": [
        "1.Implementing Heart Attack using **classification algorithms**"
      ],
      "metadata": {
        "id": "NMR-YGUfir9O"
      }
    },
    {
      "cell_type": "code",
      "execution_count": 8,
      "metadata": {
        "colab": {
          "base_uri": "https://localhost:8080/"
        },
        "id": "hTHj1mz1lAvA",
        "outputId": "08a5c821-14c2-40a4-e0cb-67e107d9ce16"
      },
      "outputs": [
        {
          "output_type": "stream",
          "name": "stdout",
          "text": [
            "Predicted class: [1]\n",
            "Accuracy: 1.0\n"
          ]
        },
        {
          "output_type": "stream",
          "name": "stderr",
          "text": [
            "/usr/local/lib/python3.10/dist-packages/sklearn/base.py:439: UserWarning: X does not have valid feature names, but DecisionTreeClassifier was fitted with feature names\n",
            "  warnings.warn(\n"
          ]
        }
      ],
      "source": [
        "#decisiontree\n",
        "import numpy as np\n",
        "import matplotlib.pyplot as plt\n",
        "import pandas as pd\n",
        "from sklearn.tree import DecisionTreeClassifier\n",
        "from sklearn.model_selection import train_test_split\n",
        "from sklearn.metrics import accuracy_score\n",
        "\n",
        "data = pd.read_csv('/content/gdrive/My Drive/Sem 3/ASE/heart.csv')\n",
        "names = [\"age\", \"sex\", \"cp\", \"trestbps\", \"chol\", \"fbs\", \"restecg\", \"thalach\", \"exang\", \"oldpeak\", \"slope\", \"ca\", \"thal\", \"target\"]\n",
        "data.columns = names\n",
        "data = data.dropna()\n",
        "\n",
        "X = data.drop('target', axis=1)\n",
        "y = data['target']\n",
        "\n",
        "X_train, X_test, y_train, y_test = train_test_split(X, y, test_size=0.2, random_state=0)\n",
        "classifier = DecisionTreeClassifier(criterion='entropy', random_state=0, ccp_alpha=0)\n",
        "classifier.fit(X_train, y_train)\n",
        "\n",
        "X_marks = [[69, 0, 3, 133, 230, 1, 0, 150, 0, 2.3, 0, 0, 1]]\n",
        "prediction = classifier.predict(X_marks)\n",
        "\n",
        "print(\"Predicted class:\", prediction)\n",
        "y_pred = classifier.predict(X_test)\n",
        "\n",
        "accuracy = accuracy_score(y_test, y_pred)\n",
        "print(\"Accuracy:\", accuracy)"
      ]
    },
    {
      "cell_type": "code",
      "execution_count": 9,
      "metadata": {
        "colab": {
          "base_uri": "https://localhost:8080/"
        },
        "id": "2jHITavYU4QY",
        "outputId": "6f6ef677-13fc-4d04-f698-feae49024b4d"
      },
      "outputs": [
        {
          "output_type": "stream",
          "name": "stdout",
          "text": [
            "prediction: [1 1 0 1 0 0 0 0 0 1 1 0 0 1 1 1 1 0 1 0 1 1 1 1 1 1 1 0 1 1 1 0 0 1 0 0 0\n",
            " 0 1 1 1 1 1 1 1 1 1 1 0 0 1 0 1 1 0 0 0 1 0 1 1 0 1 1 0 0 0 1 1 1 1 1 1 0\n",
            " 0 0 0 0 0 0 0 1 0 1 1 0 1 0 1 0 0 0 1 0 1 0 1 0 1 1 1 0 1 0 0 1 0 1 0 1 1\n",
            " 0 0 0 1 0 1 0 0 0 1 1 1 0 1 1 1 1 1 0 0 0 1 1 1 0 0 1 0 1 0 0 0 0 0 1 1 0\n",
            " 1 1 1 1 1 0 0 0 1 1 0 0 0 1 1 0 1 1 1 1 1 1 1 1 1 1 1 1 1 1 1 0 0 0 0 0 1\n",
            " 0 1 0 1 0 0 1 0 1 0 1 1 1 1 0 1 1 1 0 1 1 1 1 1 0 1 1 1 1 0 0 0 0 1 1 0 1\n",
            " 1 0 1 0 0 1 1 0 0 0 1 0 1 0 1 1 1 0 1 0 0 0 1 1 0 1 0 0 1 0 1 1 1 0 0 0 0\n",
            " 1 1 1 1 1 1 0 0 1 0 1 0 0 1 0 1 0 0]\n",
            "Accuracy: 0.851985559566787\n"
          ]
        }
      ],
      "source": [
        "#naive bayes\n",
        "import numpy as np\n",
        "import pandas as pd\n",
        "from sklearn.model_selection import train_test_split\n",
        "from sklearn.naive_bayes import GaussianNB\n",
        "from sklearn.metrics import accuracy_score\n",
        "\n",
        "data = pd.read_csv('/content/gdrive/My Drive/Sem 3/ASE/heart.csv')\n",
        "names = [\"age\", \"sex\", \"cp\", \"trestbps\", \"chol\", \"fbs\", \"restecg\", \"thalach\", \"exang\", \"oldpeak\", \"slope\", \"ca\", \"thal\", \"target\"]\n",
        "data.columns = names\n",
        "data = data.dropna()\n",
        "\n",
        "X = data.drop('target', axis=1)\n",
        "y = data['target']\n",
        "\n",
        "X_train, X_test, y_train, y_test = train_test_split(X, y, test_size=0.27, random_state=0)\n",
        "classifier = GaussianNB()\n",
        "classifier.fit(X_train, y_train)\n",
        "\n",
        "y_pred = classifier.predict(X_test)\n",
        "print(\"prediction:\",y_pred)\n",
        "\n",
        "accuracy = accuracy_score(y_test, y_pred)\n",
        "\n",
        "print(\"Accuracy:\", accuracy)"
      ]
    },
    {
      "cell_type": "code",
      "source": [
        "#knn\n",
        "import numpy as np\n",
        "import pandas as pd\n",
        "from sklearn.model_selection import train_test_split\n",
        "from sklearn.neighbors import KNeighborsClassifier\n",
        "from sklearn.metrics import accuracy_score\n",
        "\n",
        "data = pd.read_csv('/content/gdrive/My Drive/Sem 3/ASE/heart.csv')\n",
        "names = [\"age\", \"sex\", \"cp\", \"trestbps\", \"chol\", \"fbs\", \"restecg\", \"thalach\", \"exang\", \"oldpeak\", \"slope\", \"ca\", \"thal\", \"target\"]\n",
        "data.columns = names\n",
        "data = data.dropna()\n",
        "\n",
        "X = data.drop('target', axis=1)\n",
        "y = data['target']\n",
        "\n",
        "X_train, X_test, y_train, y_test = train_test_split(X, y, test_size=0.19, random_state=0)\n",
        "# Create a KNN classifier\n",
        "k = 2\n",
        "\n",
        "classifier = KNeighborsClassifier(n_neighbors=k)\n",
        "classifier.fit(X_train, y_train)\n",
        "\n",
        "y_pred = classifier.predict(X_test)\n",
        "accuracy = accuracy_score(y_test, y_pred)\n",
        "\n",
        "print(\"Accuracy:\", accuracy)\n"
      ],
      "metadata": {
        "colab": {
          "base_uri": "https://localhost:8080/"
        },
        "id": "MFeMDcBba4GQ",
        "outputId": "f3c9f383-442a-47c6-b116-5230fb7ae86c"
      },
      "execution_count": 10,
      "outputs": [
        {
          "output_type": "stream",
          "name": "stdout",
          "text": [
            "Accuracy: 0.958974358974359\n"
          ]
        }
      ]
    },
    {
      "cell_type": "code",
      "source": [
        "#random forest\n",
        "import numpy as np\n",
        "import pandas as pd\n",
        "from sklearn.model_selection import train_test_split\n",
        "from sklearn.ensemble import RandomForestClassifier\n",
        "from sklearn.metrics import accuracy_score\n",
        "\n",
        "data = pd.read_csv('/content/gdrive/My Drive/Sem 3/ASE/heart.csv')\n",
        "names = [\"age\", \"sex\", \"cp\", \"trestbps\", \"chol\", \"fbs\", \"restecg\", \"thalach\", \"exang\", \"oldpeak\", \"slope\", \"ca\", \"thal\", \"target\"]\n",
        "data.columns = names\n",
        "data = data.dropna()\n",
        "\n",
        "X = data.drop('target', axis=1)\n",
        "y = data['target']\n",
        "\n",
        "X_train, X_test, y_train, y_test = train_test_split(X, y, test_size=0.2, random_state=0)\n",
        "n_estimators = 100\n",
        "\n",
        "classifier = RandomForestClassifier(n_estimators=n_estimators, random_state=0)\n",
        "classifier.fit(X_train, y_train)\n",
        "\n",
        "y_pred = classifier.predict(X_test)\n",
        "accuracy = accuracy_score(y_test, y_pred)\n",
        "\n",
        "print(\"Accuracy:\", accuracy)\n"
      ],
      "metadata": {
        "colab": {
          "base_uri": "https://localhost:8080/"
        },
        "id": "zExDoYKpc_lG",
        "outputId": "72e447b3-cd50-4e70-be0f-580200b0c336"
      },
      "execution_count": 11,
      "outputs": [
        {
          "output_type": "stream",
          "name": "stdout",
          "text": [
            "Accuracy: 1.0\n"
          ]
        }
      ]
    },
    {
      "cell_type": "code",
      "source": [
        "#svm\n",
        "import numpy as np\n",
        "import pandas as pd\n",
        "from sklearn.model_selection import train_test_split\n",
        "from sklearn.svm import SVC\n",
        "from sklearn.metrics import accuracy_score\n",
        "\n",
        "data = pd.read_csv('/content/gdrive/My Drive/Sem 3/ASE/heart.csv')\n",
        "names = [\"age\", \"sex\", \"cp\", \"trestbps\", \"chol\", \"fbs\", \"restecg\", \"thalach\", \"exang\", \"oldpeak\", \"slope\", \"ca\", \"thal\", \"target\"]\n",
        "data.columns = names\n",
        "data = data.dropna()\n",
        "\n",
        "X = data.drop('target', axis=1)\n",
        "y = data['target']\n",
        "\n",
        "X_train, X_test, y_train, y_test = train_test_split(X, y, test_size=0.4, random_state=0)\n",
        "classifier = SVC(kernel='linear', random_state=0)\n",
        "classifier.fit(X_train, y_train)\n",
        "\n",
        "y_pred = classifier.predict(X_test)\n",
        "accuracy = accuracy_score(y_test, y_pred)\n",
        "\n",
        "print(\"Accuracy:\", accuracy)\n"
      ],
      "metadata": {
        "colab": {
          "base_uri": "https://localhost:8080/"
        },
        "id": "CauhGxwtdYEG",
        "outputId": "d500dd3d-c35b-45d4-e321-d55f7f6a21e0"
      },
      "execution_count": 12,
      "outputs": [
        {
          "output_type": "stream",
          "name": "stdout",
          "text": [
            "Accuracy: 0.8682926829268293\n"
          ]
        }
      ]
    },
    {
      "cell_type": "code",
      "source": [
        "#logistic regression\n",
        "import numpy as np\n",
        "import pandas as pd\n",
        "from sklearn.model_selection import train_test_split\n",
        "from sklearn.linear_model import LogisticRegression\n",
        "from sklearn.metrics import accuracy_score\n",
        "\n",
        "data = pd.read_csv('/content/gdrive/My Drive/Sem 3/ASE/heart.csv')\n",
        "names = [\"age\", \"sex\", \"cp\", \"trestbps\", \"chol\", \"fbs\", \"restecg\", \"thalach\", \"exang\", \"oldpeak\", \"slope\", \"ca\", \"thal\", \"target\"]\n",
        "\n",
        "data.columns = names\n",
        "data = data.dropna()\n",
        "\n",
        "X = data.drop('target', axis=1)\n",
        "y = data['target']\n",
        "X_train, X_test, y_train, y_test = train_test_split(X, y, test_size=0.35, random_state=0)\n",
        "\n",
        "classifier = LogisticRegression(max_iter=2000,random_state=0)\n",
        "classifier.fit(X_train, y_train)\n",
        "\n",
        "y_pred = classifier.predict(X_test)\n",
        "accuracy = accuracy_score(y_test, y_pred)\n",
        "\n",
        "print(\"Accuracy:\", accuracy)\n"
      ],
      "metadata": {
        "colab": {
          "base_uri": "https://localhost:8080/"
        },
        "id": "CarrPGY1ehN2",
        "outputId": "4c6d7cb3-f59a-4480-fb53-4ec1dd0bca60"
      },
      "execution_count": 13,
      "outputs": [
        {
          "output_type": "stream",
          "name": "stdout",
          "text": [
            "Accuracy: 0.8746518105849582\n"
          ]
        }
      ]
    },
    {
      "cell_type": "markdown",
      "source": [
        "2.Implement Heart attack using **Deeping learning**"
      ],
      "metadata": {
        "id": "QwqnMEjPfElK"
      }
    },
    {
      "cell_type": "code",
      "source": [
        "import numpy as np\n",
        "import pandas as pd\n",
        "from sklearn.model_selection import train_test_split\n",
        "from sklearn.preprocessing import StandardScaler\n",
        "from sklearn.metrics import accuracy_score\n",
        "from keras.models import Sequential\n",
        "from keras.layers import Dense\n",
        "\n",
        "data = pd.read_csv('/content/gdrive/My Drive/Sem 3/ASE/heart.csv')\n",
        "names = [\"age\", \"sex\", \"cp\", \"trestbps\", \"chol\", \"fbs\", \"restecg\", \"thalach\", \"exang\", \"oldpeak\", \"slope\", \"ca\", \"thal\", \"target\"]\n",
        "data.columns = names\n",
        "\n",
        "X = data.drop('target', axis=1)\n",
        "y = data['target']\n",
        "\n",
        "X_train, X_test, y_train, y_test = train_test_split(X, y, test_size=0.2, random_state=0)\n",
        "\n",
        "scaler = StandardScaler()\n",
        "X_train = scaler.fit_transform(X_train)\n",
        "X_test = scaler.transform(X_test)\n",
        "\n",
        "model = Sequential()\n",
        "model.add(Dense(64, input_dim=X_train.shape[1], activation='relu'))\n",
        "model.add(Dense(32, activation='relu'))\n",
        "model.add(Dense(1, activation='sigmoid'))\n",
        "model.compile(loss='binary_crossentropy', optimizer='adam', metrics=['accuracy'])\n",
        "model.fit(X_train, y_train, epochs=100, batch_size=32, verbose=1)\n",
        "\n",
        "y_pred = (model.predict(X_test) > 0.5).astype(int)\n",
        "accuracy = accuracy_score(y_test, y_pred)\n",
        "\n",
        "print(\"Accuracy:\", accuracy)\n"
      ],
      "metadata": {
        "colab": {
          "base_uri": "https://localhost:8080/"
        },
        "id": "h9vMF1W4gxuT",
        "outputId": "aea8341a-c921-4114-d722-2f88d5a0dd38"
      },
      "execution_count": 14,
      "outputs": [
        {
          "output_type": "stream",
          "name": "stdout",
          "text": [
            "Epoch 1/100\n",
            "26/26 [==============================] - 6s 6ms/step - loss: 0.5341 - accuracy: 0.7817\n",
            "Epoch 2/100\n",
            "26/26 [==============================] - 0s 5ms/step - loss: 0.4035 - accuracy: 0.8366\n",
            "Epoch 3/100\n",
            "26/26 [==============================] - 0s 5ms/step - loss: 0.3555 - accuracy: 0.8500\n",
            "Epoch 4/100\n",
            "26/26 [==============================] - 0s 5ms/step - loss: 0.3310 - accuracy: 0.8659\n",
            "Epoch 5/100\n",
            "26/26 [==============================] - 0s 5ms/step - loss: 0.3139 - accuracy: 0.8732\n",
            "Epoch 6/100\n",
            "26/26 [==============================] - 0s 5ms/step - loss: 0.2986 - accuracy: 0.8817\n",
            "Epoch 7/100\n",
            "26/26 [==============================] - 0s 5ms/step - loss: 0.2843 - accuracy: 0.8902\n",
            "Epoch 8/100\n",
            "26/26 [==============================] - 0s 5ms/step - loss: 0.2708 - accuracy: 0.8927\n",
            "Epoch 9/100\n",
            "26/26 [==============================] - 0s 5ms/step - loss: 0.2581 - accuracy: 0.9073\n",
            "Epoch 10/100\n",
            "26/26 [==============================] - 0s 5ms/step - loss: 0.2448 - accuracy: 0.9171\n",
            "Epoch 11/100\n",
            "26/26 [==============================] - 0s 5ms/step - loss: 0.2343 - accuracy: 0.9122\n",
            "Epoch 12/100\n",
            "26/26 [==============================] - 0s 5ms/step - loss: 0.2216 - accuracy: 0.9122\n",
            "Epoch 13/100\n",
            "26/26 [==============================] - 0s 5ms/step - loss: 0.2102 - accuracy: 0.9183\n",
            "Epoch 14/100\n",
            "26/26 [==============================] - 0s 5ms/step - loss: 0.2002 - accuracy: 0.9244\n",
            "Epoch 15/100\n",
            "26/26 [==============================] - 0s 5ms/step - loss: 0.1878 - accuracy: 0.9268\n",
            "Epoch 16/100\n",
            "26/26 [==============================] - 0s 5ms/step - loss: 0.1780 - accuracy: 0.9366\n",
            "Epoch 17/100\n",
            "26/26 [==============================] - 0s 5ms/step - loss: 0.1683 - accuracy: 0.9354\n",
            "Epoch 18/100\n",
            "26/26 [==============================] - 0s 5ms/step - loss: 0.1581 - accuracy: 0.9463\n",
            "Epoch 19/100\n",
            "26/26 [==============================] - 0s 5ms/step - loss: 0.1469 - accuracy: 0.9463\n",
            "Epoch 20/100\n",
            "26/26 [==============================] - 0s 6ms/step - loss: 0.1389 - accuracy: 0.9488\n",
            "Epoch 21/100\n",
            "26/26 [==============================] - 0s 5ms/step - loss: 0.1302 - accuracy: 0.9512\n",
            "Epoch 22/100\n",
            "26/26 [==============================] - 0s 7ms/step - loss: 0.1199 - accuracy: 0.9707\n",
            "Epoch 23/100\n",
            "26/26 [==============================] - 0s 5ms/step - loss: 0.1131 - accuracy: 0.9671\n",
            "Epoch 24/100\n",
            "26/26 [==============================] - 0s 4ms/step - loss: 0.1047 - accuracy: 0.9817\n",
            "Epoch 25/100\n",
            "26/26 [==============================] - 0s 4ms/step - loss: 0.0982 - accuracy: 0.9878\n",
            "Epoch 26/100\n",
            "26/26 [==============================] - 0s 4ms/step - loss: 0.0903 - accuracy: 0.9866\n",
            "Epoch 27/100\n",
            "26/26 [==============================] - 0s 4ms/step - loss: 0.0845 - accuracy: 0.9939\n",
            "Epoch 28/100\n",
            "26/26 [==============================] - 0s 3ms/step - loss: 0.0787 - accuracy: 0.9963\n",
            "Epoch 29/100\n",
            "26/26 [==============================] - 0s 3ms/step - loss: 0.0730 - accuracy: 0.9951\n",
            "Epoch 30/100\n",
            "26/26 [==============================] - 0s 4ms/step - loss: 0.0691 - accuracy: 0.9963\n",
            "Epoch 31/100\n",
            "26/26 [==============================] - 0s 4ms/step - loss: 0.0646 - accuracy: 0.9939\n",
            "Epoch 32/100\n",
            "26/26 [==============================] - 0s 4ms/step - loss: 0.0607 - accuracy: 0.9915\n",
            "Epoch 33/100\n",
            "26/26 [==============================] - 0s 4ms/step - loss: 0.0553 - accuracy: 0.9939\n",
            "Epoch 34/100\n",
            "26/26 [==============================] - 0s 4ms/step - loss: 0.0529 - accuracy: 0.9927\n",
            "Epoch 35/100\n",
            "26/26 [==============================] - 0s 3ms/step - loss: 0.0493 - accuracy: 0.9939\n",
            "Epoch 36/100\n",
            "26/26 [==============================] - 0s 3ms/step - loss: 0.0463 - accuracy: 0.9951\n",
            "Epoch 37/100\n",
            "26/26 [==============================] - 0s 4ms/step - loss: 0.0418 - accuracy: 0.9976\n",
            "Epoch 38/100\n",
            "26/26 [==============================] - 0s 4ms/step - loss: 0.0385 - accuracy: 0.9976\n",
            "Epoch 39/100\n",
            "26/26 [==============================] - 0s 4ms/step - loss: 0.0368 - accuracy: 0.9976\n",
            "Epoch 40/100\n",
            "26/26 [==============================] - 0s 4ms/step - loss: 0.0350 - accuracy: 1.0000\n",
            "Epoch 41/100\n",
            "26/26 [==============================] - 0s 4ms/step - loss: 0.0321 - accuracy: 1.0000\n",
            "Epoch 42/100\n",
            "26/26 [==============================] - 0s 3ms/step - loss: 0.0298 - accuracy: 1.0000\n",
            "Epoch 43/100\n",
            "26/26 [==============================] - 0s 4ms/step - loss: 0.0290 - accuracy: 1.0000\n",
            "Epoch 44/100\n",
            "26/26 [==============================] - 0s 4ms/step - loss: 0.0259 - accuracy: 1.0000\n",
            "Epoch 45/100\n",
            "26/26 [==============================] - 0s 3ms/step - loss: 0.0243 - accuracy: 1.0000\n",
            "Epoch 46/100\n",
            "26/26 [==============================] - 0s 3ms/step - loss: 0.0222 - accuracy: 1.0000\n",
            "Epoch 47/100\n",
            "26/26 [==============================] - 0s 3ms/step - loss: 0.0209 - accuracy: 1.0000\n",
            "Epoch 48/100\n",
            "26/26 [==============================] - 0s 3ms/step - loss: 0.0196 - accuracy: 1.0000\n",
            "Epoch 49/100\n",
            "26/26 [==============================] - 0s 3ms/step - loss: 0.0189 - accuracy: 1.0000\n",
            "Epoch 50/100\n",
            "26/26 [==============================] - 0s 3ms/step - loss: 0.0178 - accuracy: 1.0000\n",
            "Epoch 51/100\n",
            "26/26 [==============================] - 0s 4ms/step - loss: 0.0165 - accuracy: 1.0000\n",
            "Epoch 52/100\n",
            "26/26 [==============================] - 0s 3ms/step - loss: 0.0159 - accuracy: 1.0000\n",
            "Epoch 53/100\n",
            "26/26 [==============================] - 0s 3ms/step - loss: 0.0143 - accuracy: 1.0000\n",
            "Epoch 54/100\n",
            "26/26 [==============================] - 0s 3ms/step - loss: 0.0140 - accuracy: 1.0000\n",
            "Epoch 55/100\n",
            "26/26 [==============================] - 0s 4ms/step - loss: 0.0132 - accuracy: 1.0000\n",
            "Epoch 56/100\n",
            "26/26 [==============================] - 0s 4ms/step - loss: 0.0122 - accuracy: 1.0000\n",
            "Epoch 57/100\n",
            "26/26 [==============================] - 0s 3ms/step - loss: 0.0117 - accuracy: 1.0000\n",
            "Epoch 58/100\n",
            "26/26 [==============================] - 0s 4ms/step - loss: 0.0110 - accuracy: 1.0000\n",
            "Epoch 59/100\n",
            "26/26 [==============================] - 0s 3ms/step - loss: 0.0102 - accuracy: 1.0000\n",
            "Epoch 60/100\n",
            "26/26 [==============================] - 0s 4ms/step - loss: 0.0097 - accuracy: 1.0000\n",
            "Epoch 61/100\n",
            "26/26 [==============================] - 0s 4ms/step - loss: 0.0093 - accuracy: 1.0000\n",
            "Epoch 62/100\n",
            "26/26 [==============================] - 0s 4ms/step - loss: 0.0088 - accuracy: 1.0000\n",
            "Epoch 63/100\n",
            "26/26 [==============================] - 0s 4ms/step - loss: 0.0083 - accuracy: 1.0000\n",
            "Epoch 64/100\n",
            "26/26 [==============================] - 0s 4ms/step - loss: 0.0079 - accuracy: 1.0000\n",
            "Epoch 65/100\n",
            "26/26 [==============================] - 0s 3ms/step - loss: 0.0076 - accuracy: 1.0000\n",
            "Epoch 66/100\n",
            "26/26 [==============================] - 0s 4ms/step - loss: 0.0072 - accuracy: 1.0000\n",
            "Epoch 67/100\n",
            "26/26 [==============================] - 0s 4ms/step - loss: 0.0068 - accuracy: 1.0000\n",
            "Epoch 68/100\n",
            "26/26 [==============================] - 0s 4ms/step - loss: 0.0064 - accuracy: 1.0000\n",
            "Epoch 69/100\n",
            "26/26 [==============================] - 0s 4ms/step - loss: 0.0063 - accuracy: 1.0000\n",
            "Epoch 70/100\n",
            "26/26 [==============================] - 0s 3ms/step - loss: 0.0059 - accuracy: 1.0000\n",
            "Epoch 71/100\n",
            "26/26 [==============================] - 0s 4ms/step - loss: 0.0057 - accuracy: 1.0000\n",
            "Epoch 72/100\n",
            "26/26 [==============================] - 0s 4ms/step - loss: 0.0056 - accuracy: 1.0000\n",
            "Epoch 73/100\n",
            "26/26 [==============================] - 0s 4ms/step - loss: 0.0055 - accuracy: 1.0000\n",
            "Epoch 74/100\n",
            "26/26 [==============================] - 0s 3ms/step - loss: 0.0049 - accuracy: 1.0000\n",
            "Epoch 75/100\n",
            "26/26 [==============================] - 0s 3ms/step - loss: 0.0047 - accuracy: 1.0000\n",
            "Epoch 76/100\n",
            "26/26 [==============================] - 0s 4ms/step - loss: 0.0046 - accuracy: 1.0000\n",
            "Epoch 77/100\n",
            "26/26 [==============================] - 0s 4ms/step - loss: 0.0043 - accuracy: 1.0000\n",
            "Epoch 78/100\n",
            "26/26 [==============================] - 0s 3ms/step - loss: 0.0043 - accuracy: 1.0000\n",
            "Epoch 79/100\n",
            "26/26 [==============================] - 0s 4ms/step - loss: 0.0041 - accuracy: 1.0000\n",
            "Epoch 80/100\n",
            "26/26 [==============================] - 0s 4ms/step - loss: 0.0039 - accuracy: 1.0000\n",
            "Epoch 81/100\n",
            "26/26 [==============================] - 0s 4ms/step - loss: 0.0037 - accuracy: 1.0000\n",
            "Epoch 82/100\n",
            "26/26 [==============================] - 0s 3ms/step - loss: 0.0035 - accuracy: 1.0000\n",
            "Epoch 83/100\n",
            "26/26 [==============================] - 0s 3ms/step - loss: 0.0034 - accuracy: 1.0000\n",
            "Epoch 84/100\n",
            "26/26 [==============================] - 0s 3ms/step - loss: 0.0034 - accuracy: 1.0000\n",
            "Epoch 85/100\n",
            "26/26 [==============================] - 0s 4ms/step - loss: 0.0033 - accuracy: 1.0000\n",
            "Epoch 86/100\n",
            "26/26 [==============================] - 0s 3ms/step - loss: 0.0031 - accuracy: 1.0000\n",
            "Epoch 87/100\n",
            "26/26 [==============================] - 0s 4ms/step - loss: 0.0030 - accuracy: 1.0000\n",
            "Epoch 88/100\n",
            "26/26 [==============================] - 0s 4ms/step - loss: 0.0028 - accuracy: 1.0000\n",
            "Epoch 89/100\n",
            "26/26 [==============================] - 0s 3ms/step - loss: 0.0028 - accuracy: 1.0000\n",
            "Epoch 90/100\n",
            "26/26 [==============================] - 0s 4ms/step - loss: 0.0027 - accuracy: 1.0000\n",
            "Epoch 91/100\n",
            "26/26 [==============================] - 0s 4ms/step - loss: 0.0025 - accuracy: 1.0000\n",
            "Epoch 92/100\n",
            "26/26 [==============================] - 0s 4ms/step - loss: 0.0024 - accuracy: 1.0000\n",
            "Epoch 93/100\n",
            "26/26 [==============================] - 0s 4ms/step - loss: 0.0023 - accuracy: 1.0000\n",
            "Epoch 94/100\n",
            "26/26 [==============================] - 0s 4ms/step - loss: 0.0023 - accuracy: 1.0000\n",
            "Epoch 95/100\n",
            "26/26 [==============================] - 0s 4ms/step - loss: 0.0022 - accuracy: 1.0000\n",
            "Epoch 96/100\n",
            "26/26 [==============================] - 0s 4ms/step - loss: 0.0021 - accuracy: 1.0000\n",
            "Epoch 97/100\n",
            "26/26 [==============================] - 0s 4ms/step - loss: 0.0021 - accuracy: 1.0000\n",
            "Epoch 98/100\n",
            "26/26 [==============================] - 0s 3ms/step - loss: 0.0020 - accuracy: 1.0000\n",
            "Epoch 99/100\n",
            "26/26 [==============================] - 0s 4ms/step - loss: 0.0019 - accuracy: 1.0000\n",
            "Epoch 100/100\n",
            "26/26 [==============================] - 0s 6ms/step - loss: 0.0018 - accuracy: 1.0000\n",
            "7/7 [==============================] - 0s 2ms/step\n",
            "Accuracy: 1.0\n"
          ]
        }
      ]
    }
  ],
  "metadata": {
    "colab": {
      "provenance": [],
      "gpuType": "T4"
    },
    "kernelspec": {
      "display_name": "Python 3",
      "name": "python3"
    },
    "language_info": {
      "name": "python"
    },
    "accelerator": "GPU"
  },
  "nbformat": 4,
  "nbformat_minor": 0
}